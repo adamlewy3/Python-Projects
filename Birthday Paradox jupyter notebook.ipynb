{
 "cells": [
  {
   "cell_type": "code",
   "execution_count": null,
   "metadata": {},
   "outputs": [
    {
     "name": "stdout",
     "output_type": "stream",
     "text": [
      "[datetime.date(2005, 1, 25), datetime.date(2005, 10, 22), datetime.date(2005, 6, 3), datetime.date(2005, 5, 19), datetime.date(2005, 1, 12), datetime.date(2005, 1, 29), datetime.date(2005, 6, 24), datetime.date(2005, 10, 6), datetime.date(2005, 2, 8), datetime.date(2005, 11, 2), datetime.date(2005, 7, 4), datetime.date(2005, 12, 17), datetime.date(2005, 8, 11), datetime.date(2005, 3, 12), datetime.date(2005, 9, 10), datetime.date(2005, 6, 3), datetime.date(2005, 9, 9), datetime.date(2005, 8, 21), datetime.date(2005, 5, 23), datetime.date(2005, 12, 11), datetime.date(2005, 4, 28), datetime.date(2005, 7, 25), datetime.date(2005, 6, 8)]\n",
      "2005-06-03\n"
     ]
    }
   ],
   "source": [
    "#Birthday Paradox\n",
    "\n",
    "#Function Generating n random birthdays\n",
    "\n",
    "import random\n",
    "import datetime\n",
    "\n",
    "def BirthdayGen(NumOfBirthdays):\n",
    "    Birthdays = []\n",
    "    for i in range(NumOfBirthdays):\n",
    "        StartOfYear = datetime.date(2005,1,1)\n",
    "        Birthdays.append(StartOfYear + datetime.timedelta(random.randint(0,364)))\n",
    "    return Birthdays\n",
    "\n",
    "#Need it to return \"12-04\" Ideally\n",
    "\"\"\"\n",
    "startofyear = datetime.date(2005,1,1)\n",
    "print(str(startofyear + datetime.timedelta(random.randint(0,364)))[5:])\n",
    "\"\"\"\n",
    "x = BirthdayGen(23)\n",
    "\n",
    "print(list(x))\n",
    "# print(set(BirthdayGen(23)) == BirthdayGen(23))\n",
    "\n",
    "for a, BirthdayA in enumerate(x):\n",
    "    for b, BirthdayB in enumerate(x[a+1:]):\n",
    "        if BirthdayA == BirthdayB:\n",
    "            print(BirthdayA)\n",
    "\n",
    "\n",
    "\n"
   ]
  },
  {
   "cell_type": "code",
   "execution_count": 99,
   "metadata": {},
   "outputs": [],
   "source": [
    "#Function determining whether two birthdays are the same\n",
    "\n",
    "def getMatch(Birthdays):\n",
    "    for i in range(len(Birthdays)):\n",
    "        if len(Birthdays) == len(set(Birthdays)):\n",
    "            return None\n",
    "    \n",
    "    for a, BirthdayA in enumerate(Birthdays):\n",
    "        for b, BirthdayB in enumerate(Birthdays[a+1:]):\n",
    "            if BirthdayA == BirthdayB:\n",
    "                return(BirthdayA)\n",
    "\n",
    "getMatch(BirthdayGen(23))\n"
   ]
  },
  {
   "cell_type": "code",
   "execution_count": 122,
   "metadata": {},
   "outputs": [
    {
     "name": "stdout",
     "output_type": "stream",
     "text": [
      "17 Nov, 27 Jul, 28 Jan, 8 Feb, 10 May, 5 Oct, 17 Dec, 1 Feb, 13 Dec, 19 Mar, "
     ]
    }
   ],
   "source": [
    "#Function converting birthdays into \"Day Month\" Format (strictly for user experience) \n",
    "#Update: This can be done with formatting in print statements.\n",
    "\n",
    "MONTHS = ['Jan', 'Feb', 'Mar', 'Apr', 'May', 'Jun', 'Jul', 'Aug', 'Sep', 'Oct', 'Nov', 'Dec']\n",
    "\n",
    "y = BirthdayGen(10)\n",
    "\n",
    "for i in range(10):\n",
    "    print(f\"{y[i].day} {MONTHS[y[i].month-1]}, \", end='')"
   ]
  },
  {
   "cell_type": "code",
   "execution_count": 106,
   "metadata": {},
   "outputs": [
    {
     "name": "stdout",
     "output_type": "stream",
     "text": [
      "Geeks :12, Portal :    0.55\n"
     ]
    }
   ],
   "source": [
    "print(\"Geeks :{0:2d}, Portal :{1:8.2f}\".format(12, 0.5534))\n"
   ]
  },
  {
   "cell_type": "code",
   "execution_count": null,
   "metadata": {},
   "outputs": [],
   "source": [
    "#Simulation and accuracy function"
   ]
  }
 ],
 "metadata": {
  "kernelspec": {
   "display_name": "base",
   "language": "python",
   "name": "python3"
  },
  "language_info": {
   "codemirror_mode": {
    "name": "ipython",
    "version": 3
   },
   "file_extension": ".py",
   "mimetype": "text/x-python",
   "name": "python",
   "nbconvert_exporter": "python",
   "pygments_lexer": "ipython3",
   "version": "3.12.7"
  }
 },
 "nbformat": 4,
 "nbformat_minor": 2
}
