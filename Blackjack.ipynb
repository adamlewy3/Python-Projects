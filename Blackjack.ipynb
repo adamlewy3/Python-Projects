{
 "cells": [
  {
   "cell_type": "code",
   "execution_count": 27,
   "metadata": {},
   "outputs": [
    {
     "name": "stdout",
     "output_type": "stream",
     "text": [
      "Enter the message to display with the bitmap.\n",
      "\n",
      " JRA     AJR   \n",
      "AJ  J   RA  A\n",
      "A R J   R J A\n",
      "AJRAJ   RAJRA\n"
     ]
    }
   ],
   "source": [
    "bitmap = '''\n",
    " ___     ___   \n",
    "|#  |   |#  |\n",
    "| - |   | - |\n",
    "|__#|   |__#|'''\n",
    "\n",
    "print(\"Enter the message to display with the bitmap.\")\n",
    "message = input('> ')\n",
    "for line in bitmap.splitlines():\n",
    "    for i, bit in enumerate(line):\n",
    "        if bit ==' ':\n",
    "            print(' ', end='')\n",
    "        else:\n",
    "            print(message[i % len(message)], end='')\n",
    "    print()\n"
   ]
  },
  {
   "cell_type": "code",
   "execution_count": 73,
   "metadata": {},
   "outputs": [
    {
     "name": "stdout",
     "output_type": "stream",
     "text": [
      "  ___    ___  \n",
      "|5   | |5   | \n",
      "|  ⑉ | |  ⑉ | \n",
      "|__ 5| |__ 5| \n"
     ]
    }
   ],
   "source": [
    "import random, sys\n",
    "\n",
    "HEARTS = chr(9289)\n",
    "DIAMONDS = chr(9830)\n",
    "SPADES = chr(9824)\n",
    "CLUBS = chr(9827)\n",
    "BACKSIDE = 'backside'\n",
    "\n",
    "#Program to pick cards\n",
    "\n",
    "dealer_cards = []\n",
    "player_cards = []\n",
    "\n",
    "def pick_a_card():\n",
    "    card = random.randint(1,4)\n",
    "    rank = random.randint(1,13)\n",
    "    if card == 1:\n",
    "        card = HEARTS\n",
    "    elif card == 2:\n",
    "        card = DIAMONDS\n",
    "    elif card == 3:\n",
    "        card = SPADES\n",
    "    elif card == 4:\n",
    "        card = CLUBS\n",
    "    \n",
    "    if rank == 1:\n",
    "        rank = \"A\"\n",
    "    elif rank == 11:\n",
    "        rank = \"J\"\n",
    "    elif rank == 12:\n",
    "        rank = \"Q\"\n",
    "    elif rank == 13:\n",
    "        rank = \"K\"\n",
    "        \n",
    "    return card,rank\n",
    "\n",
    "#Need datastructure to store cards somehow. Will have a \"dealer\" and \"player\" deck.\n",
    "\n",
    "def display_card(cards):\n",
    "    rows = ['', '', '', '']\n",
    "    \n",
    "    for i, card in enumerate(cards):\n",
    "        rows[0] += \"  ___  \"\n",
    "        if card == \"BACKSIDE\":\n",
    "            rows[1] += \"|## | \"\n",
    "            rows[2] += \"|###| \"\n",
    "            rows[3] += \"| ##| \"\n",
    "        else:\n",
    "            rows[1] += \"|{}  | \".format(str(cards[1]).ljust(2))\n",
    "            rows[2] += \"|  {} | \".format(cards[0])\n",
    "            rows[3] += \"|__{}| \".format(str(cards[1]).rjust(2))\n",
    "        \n",
    "    for row in rows:\n",
    "        print(row)\n",
    "\n",
    "display_card(pick_a_card())"
   ]
  },
  {
   "cell_type": "code",
   "execution_count": null,
   "metadata": {},
   "outputs": [],
   "source": []
  }
 ],
 "metadata": {
  "kernelspec": {
   "display_name": "base",
   "language": "python",
   "name": "python3"
  },
  "language_info": {
   "codemirror_mode": {
    "name": "ipython",
    "version": 3
   },
   "file_extension": ".py",
   "mimetype": "text/x-python",
   "name": "python",
   "nbconvert_exporter": "python",
   "pygments_lexer": "ipython3",
   "version": "3.12.7"
  }
 },
 "nbformat": 4,
 "nbformat_minor": 2
}
