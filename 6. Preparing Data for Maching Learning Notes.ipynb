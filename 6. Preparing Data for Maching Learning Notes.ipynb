{
 "cells": [
  {
   "cell_type": "markdown",
   "metadata": {},
   "source": [
    "Almost all machine learning algorithms work with vectors of numbers. Should know how to convert it into a usable format\n",
    "\n",
    "#### Scales of Measurement data distinction\n",
    "\n",
    "##### Nominal Data\n",
    "\n",
    "Can take any arbitrary nonnumerical values. Can neither be measured nor compared. Can be qualitative or quantitative. No arithmetic operations can be applied. Only statistical tendency that can be studied is the mode.\n",
    "\n",
    "##### Ordinal Data\n",
    "\n",
    "A type of data whose values follow an order. Don't support basic arithmetic operations, but can be compared using comparison operators. Median can be considered as a valid measure of central tendencies. For example T-shit sies (S, M, L, XL, etc.)\n",
    "\n",
    "##### Interval data\n",
    "\n",
    "Values can be compared and the intervals are equally split. Support addition and subtraction. For example, degrees fahrenheit. Difference between 30 and 31F is the same as between 90 and 91F, however, we can't say that 60F is twice as hot as 30F.\n",
    "\n",
    "##### Ratio Data\n",
    "\n",
    "Ratio data is a type of data that has a natural zero point and supports all the properties of interval data, along with arithmetic operations of multiplication, division, etc. Values are continuous and support all numeric operations. Can study statistical measures of central tendencies as well as measures of spread like variation for this kind of data.\n",
    "\n",
    "#### Transforming Ordinal Attributes\n",
    "\n",
    "Consider the Gender attribute which may have three values - Male, Female and Other. This is a nominal attribute. This can be expressed as a vector of possible values. \n",
    "\n",
    "Say, there’s a student with the following values:\n",
    "Edward Remirez, Male, 28 years, Bachelors Degree\n",
    "\n",
    "We can convert the gender column to the set of three values:\n",
    "Edward Remirez, 0, 1, 0, 28 years, Bachelors Degree\n",
    "\n",
    "This is called one-hot encoding. SKLearn provides simple interface for such transformation using sklearn.preprocessing."
   ]
  },
  {
   "cell_type": "code",
   "execution_count": 22,
   "metadata": {},
   "outputs": [
    {
     "data": {
      "text/html": [
       "<div>\n",
       "<style scoped>\n",
       "    .dataframe tbody tr th:only-of-type {\n",
       "        vertical-align: middle;\n",
       "    }\n",
       "\n",
       "    .dataframe tbody tr th {\n",
       "        vertical-align: top;\n",
       "    }\n",
       "\n",
       "    .dataframe thead th {\n",
       "        text-align: right;\n",
       "    }\n",
       "</style>\n",
       "<table border=\"1\" class=\"dataframe\">\n",
       "  <thead>\n",
       "    <tr style=\"text-align: right;\">\n",
       "      <th></th>\n",
       "      <th>Name</th>\n",
       "      <th>Gender</th>\n",
       "      <th>Age</th>\n",
       "      <th>Degree</th>\n",
       "      <th>Gender_F</th>\n",
       "      <th>Gender_M</th>\n",
       "    </tr>\n",
       "  </thead>\n",
       "  <tbody>\n",
       "    <tr>\n",
       "      <th>0</th>\n",
       "      <td>Edward Remirez</td>\n",
       "      <td>Male</td>\n",
       "      <td>28</td>\n",
       "      <td>Bachelors</td>\n",
       "      <td>0.0</td>\n",
       "      <td>1.0</td>\n",
       "    </tr>\n",
       "    <tr>\n",
       "      <th>1</th>\n",
       "      <td>Arnav Sharma</td>\n",
       "      <td>Female</td>\n",
       "      <td>23</td>\n",
       "      <td>Masters</td>\n",
       "      <td>1.0</td>\n",
       "      <td>0.0</td>\n",
       "    </tr>\n",
       "  </tbody>\n",
       "</table>\n",
       "</div>"
      ],
      "text/plain": [
       "             Name  Gender  Age     Degree  Gender_F  Gender_M\n",
       "0  Edward Remirez    Male   28  Bachelors       0.0       1.0\n",
       "1    Arnav Sharma  Female   23    Masters       1.0       0.0"
      ]
     },
     "execution_count": 22,
     "metadata": {},
     "output_type": "execute_result"
    }
   ],
   "source": [
    "#Transforming Ordinal Attributes\n",
    "\n",
    "import sklearn\n",
    "import pandas as pd\n",
    "\n",
    "df = pd.DataFrame([[\"Edward Remirez\", \"Male\", 28, \"Bachelors\"],[\"Arnav Sharma\", \"Female\",23,\"Masters\"]], columns = ['Name','Gender','Age','Degree'])\n",
    "\n",
    "df\n",
    "\n",
    "from sklearn.preprocessing import OneHotEncoder\n",
    "encoder_for_gender = OneHotEncoder().fit(df[['Gender']])\n",
    "\n",
    "encoder_for_gender.categories_\n",
    "gender_values = encoder_for_gender.transform(df[['Gender']])\n",
    "gender_values.toarray()\n",
    "\n",
    "df[['Gender_F', 'Gender_M']] = gender_values.toarray()\n",
    "\n",
    "df"
   ]
  },
  {
   "cell_type": "markdown",
   "metadata": {},
   "source": [
    "#### Transforming Ordinal Attributes\n",
    "\n",
    "Can be transformed in a simpler manner as to preserve information about the ordering and create more meaningful models. Consider again\n",
    "    Edward Ramirez, Male, 28 years, Bachelors Degree\n",
    "\n",
    "Education follows an order. We can assign a numeric value to each level: \n",
    "HS: 0, Bachelors: 1, Masters:2, Doctorate: 3."
   ]
  },
  {
   "cell_type": "code",
   "execution_count": 34,
   "metadata": {},
   "outputs": [
    {
     "data": {
      "text/plain": [
       "[array(['Bachelors', 'Masters'], dtype=object)]"
      ]
     },
     "execution_count": 34,
     "metadata": {},
     "output_type": "execute_result"
    }
   ],
   "source": [
    "from sklearn.preprocessing import OrdinalEncoder\n",
    "encoder_for_eduacation = OrdinalEncoder()\n",
    "encoder_for_eduacation.fit_transform(df[['Degree']])\n",
    "encoder_for_eduacation.categories_"
   ]
  },
  {
   "cell_type": "code",
   "execution_count": 41,
   "metadata": {},
   "outputs": [
    {
     "data": {
      "text/html": [
       "<div>\n",
       "<style scoped>\n",
       "    .dataframe tbody tr th:only-of-type {\n",
       "        vertical-align: middle;\n",
       "    }\n",
       "\n",
       "    .dataframe tbody tr th {\n",
       "        vertical-align: top;\n",
       "    }\n",
       "\n",
       "    .dataframe thead th {\n",
       "        text-align: right;\n",
       "    }\n",
       "</style>\n",
       "<table border=\"1\" class=\"dataframe\">\n",
       "  <thead>\n",
       "    <tr style=\"text-align: right;\">\n",
       "      <th></th>\n",
       "      <th>Name</th>\n",
       "      <th>Gender</th>\n",
       "      <th>Age</th>\n",
       "      <th>Degree</th>\n",
       "      <th>Gender_F</th>\n",
       "      <th>Gender_M</th>\n",
       "      <th>Degree_encoded</th>\n",
       "    </tr>\n",
       "  </thead>\n",
       "  <tbody>\n",
       "    <tr>\n",
       "      <th>0</th>\n",
       "      <td>Edward Remirez</td>\n",
       "      <td>Male</td>\n",
       "      <td>1.0</td>\n",
       "      <td>Bachelors</td>\n",
       "      <td>0.0</td>\n",
       "      <td>1.0</td>\n",
       "      <td>&lt;bound method OrdinalEncoder.fit of OrdinalEnc...</td>\n",
       "    </tr>\n",
       "    <tr>\n",
       "      <th>1</th>\n",
       "      <td>Arnav Sharma</td>\n",
       "      <td>Female</td>\n",
       "      <td>0.0</td>\n",
       "      <td>Masters</td>\n",
       "      <td>1.0</td>\n",
       "      <td>0.0</td>\n",
       "      <td>&lt;bound method OrdinalEncoder.fit of OrdinalEnc...</td>\n",
       "    </tr>\n",
       "  </tbody>\n",
       "</table>\n",
       "</div>"
      ],
      "text/plain": [
       "             Name  Gender  Age     Degree  Gender_F  Gender_M  \\\n",
       "0  Edward Remirez    Male  1.0  Bachelors       0.0       1.0   \n",
       "1    Arnav Sharma  Female  0.0    Masters       1.0       0.0   \n",
       "\n",
       "                                      Degree_encoded  \n",
       "0  <bound method OrdinalEncoder.fit of OrdinalEnc...  \n",
       "1  <bound method OrdinalEncoder.fit of OrdinalEnc...  "
      ]
     },
     "execution_count": 41,
     "metadata": {},
     "output_type": "execute_result"
    }
   ],
   "source": [
    "encoder_for_eduacation = OrdinalEncoder(categories=[['Masters','Bachelors','High School', 'Doctoral']])\n",
    "df[['Degree_encoded']] = encoder_for_eduacation.fit\n",
    "df\n"
   ]
  },
  {
   "cell_type": "markdown",
   "metadata": {},
   "source": [
    "### Normalisation\n",
    "\n",
    "#### Min-Max Scaling\n",
    "\n",
    "Transforms each feature by compressing it down to a scale where the minimum number in the dataset maps to zero and the maximum maps to one.\n",
    "\n"
   ]
  },
  {
   "cell_type": "code",
   "execution_count": 39,
   "metadata": {},
   "outputs": [
    {
     "data": {
      "text/plain": [
       "\"\\n\\nfrom sklearn.preprocessing import MinMaxScaler\\nscaler = MinMaxScaler()\\nscaler.fit(df[['Age']])\\ndf[['Age']] = scaler.transform(df[['Age']])\\ndf\\n\\n\""
      ]
     },
     "execution_count": 39,
     "metadata": {},
     "output_type": "execute_result"
    }
   ],
   "source": [
    "\"\"\"\n",
    "\n",
    "from sklearn.preprocessing import MinMaxScaler\n",
    "scaler = MinMaxScaler()\n",
    "scaler.fit(df[['Age']])\n",
    "df[['Age']] = scaler.transform(df[['Age']])\n",
    "df\n",
    "\n",
    "\"\"\"\n",
    "\n",
    "#Boring with two values in the dataset"
   ]
  },
  {
   "cell_type": "markdown",
   "metadata": {},
   "source": [
    "##### Standard Scaling\n",
    "\n",
    "Standard scaling standardizes the feature values by removing the mean and scaling to unit variance. "
   ]
  },
  {
   "cell_type": "code",
   "execution_count": 43,
   "metadata": {},
   "outputs": [
    {
     "data": {
      "text/html": [
       "<div>\n",
       "<style scoped>\n",
       "    .dataframe tbody tr th:only-of-type {\n",
       "        vertical-align: middle;\n",
       "    }\n",
       "\n",
       "    .dataframe tbody tr th {\n",
       "        vertical-align: top;\n",
       "    }\n",
       "\n",
       "    .dataframe thead th {\n",
       "        text-align: right;\n",
       "    }\n",
       "</style>\n",
       "<table border=\"1\" class=\"dataframe\">\n",
       "  <thead>\n",
       "    <tr style=\"text-align: right;\">\n",
       "      <th></th>\n",
       "      <th>Name</th>\n",
       "      <th>Gender</th>\n",
       "      <th>Age</th>\n",
       "      <th>Degree</th>\n",
       "      <th>Gender_F</th>\n",
       "      <th>Gender_M</th>\n",
       "      <th>Degree_encoded</th>\n",
       "    </tr>\n",
       "  </thead>\n",
       "  <tbody>\n",
       "    <tr>\n",
       "      <th>0</th>\n",
       "      <td>Edward Remirez</td>\n",
       "      <td>Male</td>\n",
       "      <td>1.0</td>\n",
       "      <td>Bachelors</td>\n",
       "      <td>0.0</td>\n",
       "      <td>1.0</td>\n",
       "      <td>&lt;bound method OrdinalEncoder.fit of OrdinalEnc...</td>\n",
       "    </tr>\n",
       "    <tr>\n",
       "      <th>1</th>\n",
       "      <td>Arnav Sharma</td>\n",
       "      <td>Female</td>\n",
       "      <td>-1.0</td>\n",
       "      <td>Masters</td>\n",
       "      <td>1.0</td>\n",
       "      <td>0.0</td>\n",
       "      <td>&lt;bound method OrdinalEncoder.fit of OrdinalEnc...</td>\n",
       "    </tr>\n",
       "  </tbody>\n",
       "</table>\n",
       "</div>"
      ],
      "text/plain": [
       "             Name  Gender  Age     Degree  Gender_F  Gender_M  \\\n",
       "0  Edward Remirez    Male  1.0  Bachelors       0.0       1.0   \n",
       "1    Arnav Sharma  Female -1.0    Masters       1.0       0.0   \n",
       "\n",
       "                                      Degree_encoded  \n",
       "0  <bound method OrdinalEncoder.fit of OrdinalEnc...  \n",
       "1  <bound method OrdinalEncoder.fit of OrdinalEnc...  "
      ]
     },
     "execution_count": 43,
     "metadata": {},
     "output_type": "execute_result"
    }
   ],
   "source": [
    "\n",
    "from sklearn.preprocessing import StandardScaler\n",
    "scaler = StandardScaler()\n",
    "scaler.fit(df[['Age']])\n",
    "df['Age'] = scaler.transform(df[['Age']])\n",
    "df"
   ]
  },
  {
   "cell_type": "code",
   "execution_count": 47,
   "metadata": {},
   "outputs": [
    {
     "data": {
      "text/plain": [
       "array([1.])"
      ]
     },
     "execution_count": 47,
     "metadata": {},
     "output_type": "execute_result"
    }
   ],
   "source": [
    "#Can view the parameters of the scaler using\n",
    "\n",
    "scaler.mean_\n",
    "scaler.scale_"
   ]
  },
  {
   "cell_type": "code",
   "execution_count": null,
   "metadata": {},
   "outputs": [],
   "source": []
  }
 ],
 "metadata": {
  "kernelspec": {
   "display_name": "base",
   "language": "python",
   "name": "python3"
  },
  "language_info": {
   "codemirror_mode": {
    "name": "ipython",
    "version": 3
   },
   "file_extension": ".py",
   "mimetype": "text/x-python",
   "name": "python",
   "nbconvert_exporter": "python",
   "pygments_lexer": "ipython3",
   "version": "3.12.7"
  }
 },
 "nbformat": 4,
 "nbformat_minor": 2
}
