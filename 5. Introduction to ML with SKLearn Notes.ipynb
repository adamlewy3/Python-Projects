{
 "cells": [
  {
   "cell_type": "markdown",
   "metadata": {},
   "source": [
    "### The Machine-Learning process:\n",
    "\n",
    "1) Problem Understanding\n",
    "2) Data Collection\n",
    "3) Data Annotation and Data Preparation\n",
    "4) Data Wrangling\n",
    "5) Model Development, Training and Evaluation\n",
    "6) Model Deployment and Maintenence\n",
    "\n",
    "\"Remember, machine learning is powered by the data. The quality of end results will almost always depend on the quantity and the quality of the data.\"\n",
    "\n",
    "May need to label data yourself if doing supervised learning. Data may also require cleaning, reformatting and normalisation. May need to combine multiple data sources.\n",
    "\n",
    "May need to tweak the algorithms in Scikit-learn, TensorFlow or PyTorch.\n",
    "\n",
    "API - Application Programming Interfact, a software intermediary that allows applications to communicate and exchange data.\n",
    "\n",
    "Machine learning methods expect the data to be present in sets of numerical variables called features.\n",
    "\n",
    "Scikit-learn is designed in a way to have similar interfaces across the functionalities offered by the library. It is organized around three primary APIs, namely, estimator, predictor, and transformer. Estimators are the core interface implemented by classification, regression, clustering, feature extraction, and dimensionality reduction methods."
   ]
  },
  {
   "cell_type": "code",
   "execution_count": 4,
   "metadata": {},
   "outputs": [
    {
     "name": "stdout",
     "output_type": "stream",
     "text": [
      "dict_keys(['data', 'target', 'frame', 'target_names', 'DESCR', 'feature_names', 'filename', 'data_module'])\n"
     ]
    }
   ],
   "source": [
    "from sklearn import datasets\n",
    "iris = datasets.load_iris()\n",
    "print(iris.keys())"
   ]
  },
  {
   "cell_type": "code",
   "execution_count": 25,
   "metadata": {},
   "outputs": [
    {
     "name": "stdout",
     "output_type": "stream",
     "text": [
      "[[5.1 3.5 1.4 0.2]\n",
      " [4.9 3.  1.4 0.2]\n",
      " [4.7 3.2 1.3 0.2]]\n",
      "[0 0 0 0 0 0 0 0 0 0]\n",
      "['sepal length (cm)', 'sepal width (cm)', 'petal length (cm)', 'petal width (cm)']\n",
      "['setosa' 'versicolor' 'virginica']\n"
     ]
    }
   ],
   "source": [
    "print(iris.data[0:3])\n",
    "\n",
    "print(iris.target[:10])\n",
    "print(iris.feature_names)\n",
    "print(iris.target_names)"
   ]
  },
  {
   "cell_type": "code",
   "execution_count": 30,
   "metadata": {},
   "outputs": [
    {
     "name": "stdout",
     "output_type": "stream",
     "text": [
      "[0 0 0 0 0 0 0 0 0 0 0 0 0 0 0 0 0 0 0 0 0 0 0 0 0 0 0 0 0 0 0 0 0 0 0 0 0\n",
      " 0 0 0 0 0 0 0 0 0 0 0 0 0 1 1 1 1 1 1 1 1 1 1 1 1 1 1 1 1 1 1 1 1 1 1 1 1\n",
      " 1 1 1 2 1 1 1 1 1 2 1 1 1 1 1 1 1 1 1 1 1 1 1 1 1 1 2 2 2 2 2 2 1 2 2 2 2\n",
      " 2 2 2 2 2 2 2 2 2 2 2 2 2 2 2 2 2 2 2 2 2 2 2 2 2 2 2 2 2 2 2 2 2 2 2 2 2\n",
      " 2 2]\n",
      "98.0\n"
     ]
    }
   ],
   "source": [
    "#Now Create an estimator with an algorithm called Support Vector Machines (SVM) Classifier\n",
    "#Initialise and learn parameters:\n",
    "\n",
    "from sklearn import svm\n",
    "clf = svm.SVC(gamma=0.001,C=100.)\n",
    "clf.fit(iris.data[:-1], iris.target[:-1])\n",
    "print(clf.predict(iris.data))\n",
    "\n",
    "accuracy =0\n",
    "\n",
    "for i in range(len(iris.target)):\n",
    "    if clf.predict(iris.data)[i] == iris.target[i]:\n",
    "        accuracy = accuracy +1\n",
    "\n",
    "print(accuracy*100/len(iris.target))"
   ]
  },
  {
   "cell_type": "code",
   "execution_count": null,
   "metadata": {},
   "outputs": [],
   "source": []
  }
 ],
 "metadata": {
  "kernelspec": {
   "display_name": "base",
   "language": "python",
   "name": "python3"
  },
  "language_info": {
   "codemirror_mode": {
    "name": "ipython",
    "version": 3
   },
   "file_extension": ".py",
   "mimetype": "text/x-python",
   "name": "python",
   "nbconvert_exporter": "python",
   "pygments_lexer": "ipython3",
   "version": "3.12.7"
  }
 },
 "nbformat": 4,
 "nbformat_minor": 2
}
