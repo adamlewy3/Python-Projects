{
 "cells": [
  {
   "cell_type": "markdown",
   "metadata": {},
   "source": [
    "### The Machine-Learning process:\n",
    "\n",
    "1) Problem Understanding\n",
    "2) Data Collection\n",
    "3) Data Annotation and Data Preparation\n",
    "4) Data Wrangling\n",
    "5) Model Development, Training and Evaluation\n",
    "6) Model Deployment and Maintenence\n",
    "\n",
    "\"Remember, machine learning is powered by the data. The quality of end results will almost always depend on the quantity and the quality of the data.\"\n",
    "\n",
    "May need to label data yourself if doing supervised learning. Data may also require cleaning, reformatting and normalisation. May need to combine multiple data sources.\n",
    "\n",
    "May need to tweak the algorithms in Scikit-learn, TensorFlow or PyTorch.\n",
    "\n",
    "API - Application Programming Interfact, a software intermediary that allows applications to communicate and exchange data.\n"
   ]
  }
 ],
 "metadata": {
  "kernelspec": {
   "display_name": "base",
   "language": "python",
   "name": "python3"
  },
  "language_info": {
   "codemirror_mode": {
    "name": "ipython",
    "version": 3
   },
   "file_extension": ".py",
   "mimetype": "text/x-python",
   "name": "python",
   "nbconvert_exporter": "python",
   "pygments_lexer": "ipython3",
   "version": "3.12.7"
  }
 },
 "nbformat": 4,
 "nbformat_minor": 2
}
